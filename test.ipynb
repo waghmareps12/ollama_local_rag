{
 "cells": [
  {
   "cell_type": "code",
   "execution_count": 6,
   "metadata": {},
   "outputs": [],
   "source": [
    "# import subprocess\n",
    "# subprocess.run(\"ollama serve\", shell=True)"
   ]
  },
  {
   "cell_type": "code",
   "execution_count": 7,
   "metadata": {},
   "outputs": [],
   "source": [
    "# import ollama\n",
    "# #Then everytime you want to chat\n",
    "# response = ollama.chat(model='llama3.2', messages=[\n",
    "#   {\n",
    "#     'role': 'user',\n",
    "#     'content': 'Why is the sky blue?',\n",
    "#   },\n",
    "# ])\n",
    "# print(response['message']['content'])"
   ]
  },
  {
   "cell_type": "code",
   "execution_count": 1,
   "metadata": {},
   "outputs": [],
   "source": [
    "import pandas as pd\n",
    "import os\n",
    "from langchain_community.vectorstores import FAISS\n",
    "from langchain_openai import AzureOpenAI, AzureOpenAIEmbeddings\n",
    "from langchain_text_splitters import RecursiveCharacterTextSplitter\n",
    "from langchain_community.document_loaders import DirectoryLoader"
   ]
  },
  {
   "cell_type": "code",
   "execution_count": 2,
   "metadata": {},
   "outputs": [],
   "source": [
    "from dotenv import load_dotenv\n",
    "load_dotenv() # read local .env file\n",
    "OPENAI_API_BASE = os.getenv('OPENAI_API_BASE')\n",
    "OPENAI_API_KEY = os.getenv('OPENAI_API_KEY')\n",
    "OPENAI_API_BASE = os.getenv('OPENAI_API_BASE')\n",
    "OPENAI_API_VERSION = os.getenv('OPENAI_API_VERSION')"
   ]
  },
  {
   "cell_type": "code",
   "execution_count": 10,
   "metadata": {},
   "outputs": [],
   "source": [
    "embeddings = AzureOpenAIEmbeddings(\n",
    "    model=\"text-embedding-3-large\",\n",
    "    deployment= 'genai-gpt-35-turbo',\n",
    "    # dimensions: Optional[int] = None, # Can specify dimensions with new text-embedding-3 models\n",
    "    azure_endpoint=OPENAI_API_BASE, #\"https://<your-endpoint>.openai.azure.com/\", If not provided, will read env variable AZURE_OPENAI_ENDPOINT\n",
    "    api_key=OPENAI_API_KEY, # Can provide an API key directly. If missing read env variable AZURE_OPENAI_API_KEY\n",
    "    openai_api_version=OPENAI_API_VERSION, # If not provided, will read env variable AZURE_OPENAI_API_VERSION\n",
    ")"
   ]
  },
  {
   "cell_type": "code",
   "execution_count": 13,
   "metadata": {},
   "outputs": [],
   "source": [
    "import time"
   ]
  },
  {
   "cell_type": "code",
   "execution_count": 14,
   "metadata": {},
   "outputs": [],
   "source": [
    "# Function to process text data in chunks and add to the FAISS index\n",
    "def process_in_chunks(text_data, chunk_size, embeddings, index_name):\n",
    "    # Check if the index already exists\n",
    "    if os.path.exists(f\"{index_name}.faiss\") and os.path.exists(f\"{index_name}.pkl\"):\n",
    "        vectorstore = FAISS.load_local(index_name, embeddings)\n",
    "        print(\"Loaded existing FAISS index.\")\n",
    "    else:\n",
    "        vectorstore = None\n",
    "    \n",
    "    for i in range(0, len(text_data), chunk_size):\n",
    "        chunk = text_data[i:i + chunk_size]\n",
    "        try:\n",
    "            print(f\"Processing chunk {i // chunk_size + 1}\")\n",
    "            temp_vectorstore = FAISS.from_texts(chunk, embeddings)\n",
    "            \n",
    "            if vectorstore:\n",
    "                vectorstore.merge_from(temp_vectorstore)\n",
    "            else:\n",
    "                vectorstore = temp_vectorstore\n",
    "            \n",
    "            # Save the updated FAISS index after processing each chunk\n",
    "            vectorstore.save_local(index_name)\n",
    "            print(f\"Chunk {i // chunk_size + 1} processed and index saved.\")\n",
    "            \n",
    "        except Exception as e:\n",
    "            print(f\"Error processing chunk {i}: {e}\")\n",
    "        \n",
    "        time.sleep(1)  # Sleep to respect the rate limit\n",
    "    \n",
    "    return vectorstore\n",
    "\n"
   ]
  },
  {
   "cell_type": "code",
   "execution_count": 15,
   "metadata": {},
   "outputs": [
    {
     "name": "stdout",
     "output_type": "stream",
     "text": [
      "dir loaded loader\n",
      "Processing chunk 1\n",
      "Error processing chunk 0: Error code: 429 - {'error': {'code': '429', 'message': 'Requests to the Embeddings_Create Operation under Azure OpenAI API version 2023-05-15 have exceeded call rate limit of your current OpenAI S0 pricing tier. Please retry after 86400 seconds. Please go here: https://aka.ms/oai/quotaincrease if you would like to further increase the default rate limit.'}}\n"
     ]
    }
   ],
   "source": [
    "index_name = \"faiss_index\"\n",
    "# Load documents from a directory\n",
    "loader = DirectoryLoader(\"./input-data\", glob=\"**/*.txt\")\n",
    "\n",
    "print(\"dir loaded loader\")\n",
    "\n",
    "documents = loader.load()\n",
    "text_splitter = RecursiveCharacterTextSplitter(\n",
    "    separators=[\"\\n\\n\",\"\\n\",\" \",\"\"],\n",
    "    chunk_size=1500,\n",
    "    chunk_overlap=300,\n",
    "    add_start_index=True,\n",
    ")\n",
    "\n",
    "# # Split documents into chunks\n",
    "texts = text_splitter.split_documents(documents)\n",
    "text_data = [doc.page_content for doc in texts]\n",
    "# print(len(documents))\n",
    "# if os.path.exists(f\"{index_name}.faiss\") and os.path.exists(f\"{index_name}.pkl\"):\n",
    "#     vectorstore = FAISS.load_local(index_name, embeddings)\n",
    "#     print(\"Loaded existing FAISS index.\")\n",
    "# else:\n",
    "#     # texts = df.to_string().split(\"\\n\")\n",
    "#     vectorstore = FAISS.from_texts(text_data, embeddings)\n",
    "#     vectorstore.save_local(index_name)\n",
    "#     print(\"Created and saved new FAISS index.\")\n",
    "\n",
    "# Process the data in chunks (adjust chunk_size based on rate limits)\n",
    "chunk_size = 100  # You can adjust this based on your rate limit\n",
    "vectorstore = process_in_chunks(text_data, chunk_size, embeddings, index_name)"
   ]
  }
 ],
 "metadata": {
  "kernelspec": {
   "display_name": "Python 3",
   "language": "python",
   "name": "python3"
  },
  "language_info": {
   "codemirror_mode": {
    "name": "ipython",
    "version": 3
   },
   "file_extension": ".py",
   "mimetype": "text/x-python",
   "name": "python",
   "nbconvert_exporter": "python",
   "pygments_lexer": "ipython3",
   "version": "3.12.4"
  }
 },
 "nbformat": 4,
 "nbformat_minor": 2
}
